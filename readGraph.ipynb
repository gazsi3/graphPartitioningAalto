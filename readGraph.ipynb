{
 "cells": [
  {
   "cell_type": "markdown",
   "metadata": {},
   "source": [
    "# CS-E4600 — Programming project"
   ]
  },
  {
   "cell_type": "markdown",
   "metadata": {},
   "source": [
    "## Imports"
   ]
  },
  {
   "cell_type": "code",
   "execution_count": 81,
   "metadata": {},
   "outputs": [],
   "source": [
    "import pandas as pd\n",
    "import numpy as np\n",
    "import matplotlib.pyplot as plt\n",
    "#import scipy.sparse\n",
    "from scipy.sparse import csgraph\n",
    "from scipy.sparse.linalg import eigsh\n",
    "from scipy.cluster.vq import vq, kmeans, whiten\n",
    "from scipy.sparse import coo_matrix"
   ]
  },
  {
   "cell_type": "markdown",
   "metadata": {},
   "source": [
    "## Read file"
   ]
  },
  {
   "cell_type": "code",
   "execution_count": 82,
   "metadata": {},
   "outputs": [],
   "source": [
    "#file = 'test'\n",
    "#file = 'ca-GrQc'\n",
    "#file = 'Oregon-1'\n",
    "file = 'roadNet-CA'"
   ]
  },
  {
   "cell_type": "markdown",
   "metadata": {},
   "source": [
    "## Read First line info and Edges"
   ]
  },
  {
   "cell_type": "code",
   "execution_count": 83,
   "metadata": {},
   "outputs": [
    {
     "name": "stdout",
     "output_type": "stream",
     "text": [
      "1957027 2760388 50\n"
     ]
    }
   ],
   "source": [
    "folder = './graphs_processed/'\n",
    "with open(folder + file + '.txt') as f:\n",
    "    first_line = f.readline()\n",
    "\n",
    "splitted = first_line.split()\n",
    "\n",
    "num_nodes = int(splitted[2])\n",
    "num_edges = int(splitted[3])\n",
    "k = int(splitted[4])\n",
    "print(num_nodes, num_edges, k)\n",
    "\n",
    "    \n",
    "pd_edges = pd.read_csv(folder + file + '.txt', sep=\" \", skiprows=range(0, 1), header=None)\n",
    "pd_edges.columns = [\"FromNodeId\",\"ToNodeId\"]\n",
    "#pd_edges"
   ]
  },
  {
   "cell_type": "markdown",
   "metadata": {},
   "source": [
    "## Select Distinct Nodes"
   ]
  },
  {
   "cell_type": "code",
   "execution_count": 84,
   "metadata": {},
   "outputs": [],
   "source": [
    "node_candidates_1 = pd_edges.drop_duplicates(subset=\"FromNodeId\")[\"FromNodeId\"]\n",
    "node_candidates_2 = pd_edges.drop_duplicates(subset=\"ToNodeId\")[\"ToNodeId\"]"
   ]
  },
  {
   "cell_type": "code",
   "execution_count": 85,
   "metadata": {},
   "outputs": [],
   "source": [
    "pd_nodes = pd.concat([node_candidates_1, node_candidates_2])\n",
    "pd_nodes = pd_nodes.drop_duplicates()\n",
    "#pd_nodes"
   ]
  },
  {
   "cell_type": "markdown",
   "metadata": {},
   "source": [
    "## Convert Nodes and Edges to Numpy"
   ]
  },
  {
   "cell_type": "code",
   "execution_count": 86,
   "metadata": {},
   "outputs": [
    {
     "name": "stdout",
     "output_type": "stream",
     "text": [
      "[      0       1       2 ... 1957015 1957024 1957023]\n",
      "[      0       1       2 ... 1957024 1957025 1957026]\n"
     ]
    }
   ],
   "source": [
    "nodes = pd_nodes.values\n",
    "edges = pd_edges.values\n",
    "nodes2 = np.arange(num_nodes)\n",
    "#print(nodes.shape, nodes.shape)\n",
    "print(nodes)\n",
    "print(nodes2)\n",
    "nodes = nodes2\n",
    "#nodes.shape, edges.shape"
   ]
  },
  {
   "cell_type": "markdown",
   "metadata": {},
   "source": [
    "## Create Adjacency Matrix"
   ]
  },
  {
   "cell_type": "markdown",
   "metadata": {},
   "source": [
    "what to do with too big arrays??"
   ]
  },
  {
   "cell_type": "markdown",
   "metadata": {},
   "source": [
    "#adjacency_matrix = np.zeros((nodes.size, nodes.size))\n",
    "#adjacency_matrix.shape"
   ]
  },
  {
   "cell_type": "markdown",
   "metadata": {},
   "source": [
    "for i in range(0,edges.shape[0]):\n",
    "    adjacency_matrix[edges[i,0], edges[i,1]] = 1\n",
    "    adjacency_matrix[edges[i,1], edges[i,0]] = 1\n",
    "#np.sum(adjacency_matrix)\n",
    "plt.spy(adjacency_matrix,markersize=1)"
   ]
  },
  {
   "cell_type": "code",
   "execution_count": 87,
   "metadata": {},
   "outputs": [],
   "source": [
    "row = np.concatenate((edges[:,0],edges[:,1]))\n",
    "col = np.concatenate((edges[:,1],edges[:,0]))\n",
    "data = np.ones((2*edges.shape[0]))\n",
    "\n",
    "sparse_adjacency = coo_matrix((data, (row,col)), shape=(nodes.size, nodes.size))"
   ]
  },
  {
   "cell_type": "markdown",
   "metadata": {},
   "source": [
    "## Create Laplacian Matrix"
   ]
  },
  {
   "cell_type": "code",
   "execution_count": 88,
   "metadata": {},
   "outputs": [
    {
     "data": {
      "text/plain": [
       "0.0"
      ]
     },
     "execution_count": 88,
     "metadata": {},
     "output_type": "execute_result"
    }
   ],
   "source": [
    "laplacian = csgraph.laplacian(sparse_adjacency, normed=False)\n",
    "np.sum(laplacian)"
   ]
  },
  {
   "cell_type": "code",
   "execution_count": 89,
   "metadata": {},
   "outputs": [
    {
     "data": {
      "text/plain": [
       "<matplotlib.lines.Line2D at 0x1e6c1fc1550>"
      ]
     },
     "execution_count": 89,
     "metadata": {},
     "output_type": "execute_result"
    },
    {
     "data": {
      "image/png": "[encoded data removed]",
      "text/plain": [
       "<Figure size 432x288 with 1 Axes>"
      ]
     },
     "metadata": {
      "needs_background": "light"
     },
     "output_type": "display_data"
    }
   ],
   "source": [
    "plt.spy(laplacian,markersize=1)"
   ]
  },
  {
   "cell_type": "markdown",
   "metadata": {},
   "source": [
    "## Alternative way for the Laplacian Matrix"
   ]
  },
  {
   "cell_type": "markdown",
   "metadata": {},
   "source": [
    "degrees = np.sum(adjacency_matrix, axis=0)\n",
    "L_normed = np.identity((nodes.size))\n",
    "for i in range(nodes.size):\n",
    "    for j in range(nodes.size):\n",
    "        if i != j and adjacency_matrix[i,j] == 1:\n",
    "            L_normed[i,j] = -1.0/(np.sqrt(degrees[i]*degrees[j]))"
   ]
  },
  {
   "cell_type": "markdown",
   "metadata": {},
   "source": [
    "degrees = np.sum(adjacency_matrix, axis=0)\n",
    "L = degrees * np.identity((nodes.size))\n",
    "for i in range(nodes.size):\n",
    "    for j in range(nodes.size):\n",
    "        if i != j and adjacency_matrix[i,j] == 1:\n",
    "            L[i,j] = -1"
   ]
  },
  {
   "cell_type": "markdown",
   "metadata": {},
   "source": [
    "np.sum(L_normed)"
   ]
  },
  {
   "cell_type": "markdown",
   "metadata": {},
   "source": [
    "## Eigen-decomposition"
   ]
  },
  {
   "cell_type": "markdown",
   "metadata": {},
   "source": [
    "_w, _v = np.linalg.eig(L_normed)"
   ]
  },
  {
   "cell_type": "code",
   "execution_count": 69,
   "metadata": {},
   "outputs": [
    {
     "name": "stdout",
     "output_type": "stream",
     "text": [
      "[[ 9.68094584e-03 -6.89146096e-04  1.78083779e-03  1.21826156e-03\n",
      "  -1.01740369e-03]\n",
      " [ 9.68094584e-03 -6.22955058e-04  1.59661140e-03  1.13077357e-03\n",
      "  -8.89598335e-04]\n",
      " [ 9.68094584e-03 -6.31191283e-04  1.63497529e-03  1.15354645e-03\n",
      "  -8.93792917e-04]\n",
      " ...\n",
      " [ 9.68094584e-03  2.63523689e-04  5.19780111e-05  1.56678156e-03\n",
      "   7.77011424e-04]\n",
      " [ 9.68094584e-03  7.40917557e-04 -1.12398373e-04  1.57684263e-03\n",
      "   8.16460178e-04]\n",
      " [ 9.68094584e-03 -1.03531985e-03  2.70477104e-03  2.49001827e-03\n",
      "  -1.96381510e-03]]\n"
     ]
    }
   ],
   "source": [
    "w, v = eigsh(laplacian, k, which=\"SA\")\n",
    "print(v)"
   ]
  },
  {
   "cell_type": "markdown",
   "metadata": {
    "scrolled": true
   },
   "source": [
    "plt.plot(w)\n",
    "plt.show()"
   ]
  },
  {
   "cell_type": "markdown",
   "metadata": {},
   "source": [
    "## Selects second smallest eigenvalue and corresponding eigenvector"
   ]
  },
  {
   "cell_type": "code",
   "execution_count": 70,
   "metadata": {},
   "outputs": [],
   "source": [
    "eig_val_idx = np.argpartition(w,k-1)[1]\n",
    "eig_val_idx\n",
    "eig_vec = v[:,eig_val_idx]"
   ]
  },
  {
   "cell_type": "code",
   "execution_count": 71,
   "metadata": {},
   "outputs": [
    {
     "data": {
      "image/png": "[encoded data removed]",
      "text/plain": [
       "<Figure size 1080x360 with 2 Axes>"
      ]
     },
     "metadata": {
      "needs_background": "light"
     },
     "output_type": "display_data"
    }
   ],
   "source": [
    "plt.figure(figsize=(15,5))\n",
    "plt.subplot(1, 2, 1)\n",
    "plt.plot(eig_vec)\n",
    "plt.subplot(1, 2, 2)\n",
    "plt.hist(eig_vec)\n",
    "plt.show()"
   ]
  },
  {
   "cell_type": "markdown",
   "metadata": {},
   "source": [
    "## K-means clustering"
   ]
  },
  {
   "cell_type": "markdown",
   "metadata": {},
   "source": [
    "Should be improved to enforce balanced cluster sizes"
   ]
  },
  {
   "cell_type": "code",
   "execution_count": 72,
   "metadata": {},
   "outputs": [
    {
     "name": "stdout",
     "output_type": "stream",
     "text": [
      "[[ 0.00968095 -0.00582367  0.01752259 -0.07349259  0.00305932]\n",
      " [ 0.00968095  0.00636259 -0.05270686 -0.01143691  0.00655377]\n",
      " [ 0.00968095 -0.00066958  0.00168606  0.00133803 -0.00105762]\n",
      " [ 0.00968095  0.00054453 -0.00117413  0.0017017   0.00242182]\n",
      " [ 0.00968095  0.31240603  0.04305419 -0.01362404 -0.00520611]]\n"
     ]
    }
   ],
   "source": [
    "whitened = whiten(v)\n",
    "k_means, distortion = kmeans(v,k)\n",
    "print(k_means)"
   ]
  },
  {
   "cell_type": "markdown",
   "metadata": {},
   "source": [
    "## Select cluster for all vertices"
   ]
  },
  {
   "cell_type": "code",
   "execution_count": 73,
   "metadata": {},
   "outputs": [],
   "source": [
    "def cluster(node, k_means):\n",
    "    node_cluster = 0\n",
    "    node_distance = np.linalg.norm(node - k_means[0,:])\n",
    "    \n",
    "    for i in range(1,k_means.shape[0]):\n",
    "        tmp_distance = np.linalg.norm(node - k_means[i,:])\n",
    "        if (tmp_distance < node_distance):\n",
    "            node_distance = tmp_distance\n",
    "            node_cluster = i\n",
    "                \n",
    "    return node_cluster\n",
    "        "
   ]
  },
  {
   "cell_type": "code",
   "execution_count": 74,
   "metadata": {},
   "outputs": [],
   "source": [
    "clusters = np.zeros((num_nodes,1))\n",
    "for j in range(clusters.size):\n",
    "    clusters[j] = cluster(v[j,:], k_means)"
   ]
  },
  {
   "cell_type": "code",
   "execution_count": 75,
   "metadata": {},
   "outputs": [],
   "source": [
    "unique, counts = np.unique(clusters, return_counts=True)"
   ]
  },
  {
   "cell_type": "code",
   "execution_count": 76,
   "metadata": {},
   "outputs": [
    {
     "data": {
      "image/png": "[encoded data removed]",
      "text/plain": [
       "<Figure size 432x288 with 1 Axes>"
      ]
     },
     "metadata": {
      "needs_background": "light"
     },
     "output_type": "display_data"
    }
   ],
   "source": [
    "bars = np.arange(k)\n",
    "plt.bar(bars, counts)\n",
    "plt.show()"
   ]
  },
  {
   "cell_type": "markdown",
   "metadata": {},
   "source": [
    "## Calculate cost for clusters"
   ]
  },
  {
   "cell_type": "code",
   "execution_count": 77,
   "metadata": {},
   "outputs": [],
   "source": [
    "outer_edges = np.zeros((k,1))\n",
    "\n",
    "for i in range(k):\n",
    "    for j in range(num_edges):\n",
    "        if(((clusters[edges[j,0]] == i) and (clusters[edges[j,1]] != i))\n",
    "        or ((clusters[edges[j,0]] != i) and (clusters[edges[j,1]] == i))):\n",
    "            outer_edges[i] += 1"
   ]
  },
  {
   "cell_type": "code",
   "execution_count": 78,
   "metadata": {},
   "outputs": [
    {
     "name": "stdout",
     "output_type": "stream",
     "text": [
      "[[2.900e+01]\n",
      " [6.300e+01]\n",
      " [1.202e+03]\n",
      " [1.221e+03]\n",
      " [1.000e+00]] \n",
      "\n",
      " [[0.1835443 ]\n",
      " [0.26141079]\n",
      " [0.15224826]\n",
      " [0.51606086]\n",
      " [0.1       ]] \n",
      "\n",
      " [1.21326421]\n"
     ]
    }
   ],
   "source": [
    "counts = counts.reshape(k,-1)\n",
    "costs = outer_edges / counts\n",
    "cost = sum(costs)\n",
    "print(outer_edges,\"\\n\\n\" ,  costs,\"\\n\\n\", cost)            "
   ]
  },
  {
   "cell_type": "code",
   "execution_count": 79,
   "metadata": {},
   "outputs": [
    {
     "name": "stdout",
     "output_type": "stream",
     "text": [
      "[[1.9700e+02]\n",
      " [3.8400e+02]\n",
      " [1.7298e+04]\n",
      " [5.3710e+03]\n",
      " [1.0000e+01]]\n"
     ]
    }
   ],
   "source": [
    "all_edges = np.zeros((k,1))\n",
    "\n",
    "for i in range(k):\n",
    "    for j in range(num_edges):\n",
    "        if((clusters[edges[j,0]] == i) or (clusters[edges[j,1]] == i)):\n",
    "            all_edges[i] +=1\n",
    "print(all_edges)"
   ]
  },
  {
   "cell_type": "markdown",
   "metadata": {},
   "source": [
    "## Output clusters"
   ]
  },
  {
   "cell_type": "code",
   "execution_count": 80,
   "metadata": {},
   "outputs": [],
   "source": [
    "#out_file = open(\"./results/\" + file + \".output\" + \".txt\", \"w\")\n",
    "out_file = open(\"./results/\" + file + \".output\", \"w\")\n",
    "out_file.write(first_line)\n",
    "for i in range (num_nodes):\n",
    "    out_file.write(str(i) + \" \" + str(int(clusters[i,0])) + \"\\n\")\n",
    "out_file.close()"
   ]
  }
 ],
 "metadata": {
  "kernelspec": {
   "display_name": "Python 3",
   "language": "python",
   "name": "python3"
  },
  "language_info": {
   "codemirror_mode": {
    "name": "ipython",
    "version": 3
   },
   "file_extension": ".py",
   "mimetype": "text/x-python",
   "name": "python",
   "nbconvert_exporter": "python",
   "pygments_lexer": "ipython3",
   "version": "3.7.3"
  }
 },
 "nbformat": 4,
 "nbformat_minor": 2
}
