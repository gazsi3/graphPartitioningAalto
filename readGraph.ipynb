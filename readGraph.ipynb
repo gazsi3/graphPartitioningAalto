{
 "cells": [
  {
   "cell_type": "markdown",
   "metadata": {},
   "source": [
    "# CS-E4600 — Programming project"
   ]
  },
  {
   "cell_type": "markdown",
   "metadata": {},
   "source": [
    "## Imports"
   ]
  },
  {
   "cell_type": "code",
   "execution_count": 196,
   "metadata": {},
   "outputs": [],
   "source": [
    "import pandas as pd\n",
    "import numpy as np\n",
    "import matplotlib.pyplot as plt \n",
    "from scipy.sparse import csgraph\n",
    "from scipy.sparse.linalg import eigsh\n",
    "from scipy.cluster.vq import vq, kmeans, whiten"
   ]
  },
  {
   "cell_type": "markdown",
   "metadata": {},
   "source": [
    "## Read file"
   ]
  },
  {
   "cell_type": "code",
   "execution_count": 197,
   "metadata": {},
   "outputs": [],
   "source": [
    "file = 'test.txt'\n",
    "#file = 'ca-GrQc.txt'\n",
    "#file = 'Oregon-1.txt'\n",
    "#file = 'ca-HepPh.txt'"
   ]
  },
  {
   "cell_type": "markdown",
   "metadata": {},
   "source": [
    "## Read First line info and Edges"
   ]
  },
  {
   "cell_type": "code",
   "execution_count": 198,
   "metadata": {},
   "outputs": [
    {
     "name": "stdout",
     "output_type": "stream",
     "text": [
      "8 11 2\n"
     ]
    }
   ],
   "source": [
    "with open('./graphs_processed/' + file) as f:\n",
    "    first_line = f.readline()\n",
    "first_line = first_line.split()\n",
    "\n",
    "num_nodes = int(first_line[2])\n",
    "num_edges = int(first_line[3])\n",
    "k = int(first_line[4])\n",
    "print(num_nodes, num_edges, k)\n",
    "\n",
    "    \n",
    "pd_edges = pd.read_csv('./graphs_processed/' + file, sep=\" \", skiprows=range(0, 1), header=None)\n",
    "pd_edges.columns = [\"FromNodeId\",\"ToNodeId\"]\n",
    "#pd_edges"
   ]
  },
  {
   "cell_type": "markdown",
   "metadata": {},
   "source": [
    "## Select Distinct Nodes"
   ]
  },
  {
   "cell_type": "code",
   "execution_count": 199,
   "metadata": {},
   "outputs": [],
   "source": [
    "node_candidates_1 = pd_edges.drop_duplicates(subset=\"FromNodeId\")[\"FromNodeId\"]\n",
    "node_candidates_2 = pd_edges.drop_duplicates(subset=\"ToNodeId\")[\"ToNodeId\"]"
   ]
  },
  {
   "cell_type": "code",
   "execution_count": 200,
   "metadata": {},
   "outputs": [],
   "source": [
    "pd_nodes = pd.concat([node_candidates_1, node_candidates_2])\n",
    "pd_nodes = pd_nodes.drop_duplicates()\n",
    "#pd_nodes"
   ]
  },
  {
   "cell_type": "markdown",
   "metadata": {},
   "source": [
    "## Convert Nodes and Edges to Numpy"
   ]
  },
  {
   "cell_type": "code",
   "execution_count": 201,
   "metadata": {},
   "outputs": [
    {
     "name": "stdout",
     "output_type": "stream",
     "text": [
      "[0 1 2 3 5 6 4 7]\n",
      "[0 1 2 3 4 5 6 7]\n"
     ]
    }
   ],
   "source": [
    "nodes = pd_nodes.values\n",
    "edges = pd_edges.values\n",
    "nodes2 = np.arange(num_nodes)\n",
    "#print(nodes.shape, nodes.shape)\n",
    "print(nodes)\n",
    "print(nodes2)\n",
    "nodes = nodes2\n",
    "#nodes.shape, edges.shape"
   ]
  },
  {
   "cell_type": "markdown",
   "metadata": {},
   "source": [
    "## Create Adjacency Matrix"
   ]
  },
  {
   "cell_type": "markdown",
   "metadata": {},
   "source": [
    "what to do with too big arrays??"
   ]
  },
  {
   "cell_type": "code",
   "execution_count": 202,
   "metadata": {},
   "outputs": [],
   "source": [
    "adjacency_matrix = np.zeros((nodes.size, nodes.size))\n",
    "#adjacency_matrix.shape"
   ]
  },
  {
   "cell_type": "code",
   "execution_count": 203,
   "metadata": {},
   "outputs": [
    {
     "data": {
      "text/plain": [
       "<matplotlib.image.AxesImage at 0x21d899d2358>"
      ]
     },
     "execution_count": 203,
     "metadata": {},
     "output_type": "execute_result"
    },
    {
     "data": {
      "image/png": "[encoded data removed]",
      "text/plain": [
       "<Figure size 432x288 with 1 Axes>"
      ]
     },
     "metadata": {
      "needs_background": "light"
     },
     "output_type": "display_data"
    }
   ],
   "source": [
    "for i in range(0,edges.shape[0]):\n",
    "    adjacency_matrix[edges[i,0], edges[i,1]] = 1\n",
    "    adjacency_matrix[edges[i,1], edges[i,0]] = 1\n",
    "#np.sum(adjacency_matrix)\n",
    "plt.imshow(adjacency_matrix)"
   ]
  },
  {
   "cell_type": "markdown",
   "metadata": {},
   "source": [
    "## Create Laplacian Matrix"
   ]
  },
  {
   "cell_type": "code",
   "execution_count": 204,
   "metadata": {},
   "outputs": [
    {
     "data": {
      "text/plain": [
       "0.2532426070721109"
      ]
     },
     "execution_count": 204,
     "metadata": {},
     "output_type": "execute_result"
    }
   ],
   "source": [
    "laplacian = csgraph.laplacian(adjacency_matrix, normed=True)\n",
    "np.sum(laplacian)"
   ]
  },
  {
   "cell_type": "markdown",
   "metadata": {},
   "source": [
    "## Alternative way for the Laplacian Matrix"
   ]
  },
  {
   "cell_type": "code",
   "execution_count": 205,
   "metadata": {},
   "outputs": [],
   "source": [
    "degrees = np.sum(adjacency_matrix, axis=0)\n",
    "L_normed = np.identity((nodes.size))\n",
    "for i in range(nodes.size):\n",
    "    for j in range(nodes.size):\n",
    "        if i != j and adjacency_matrix[i,j] == 1:\n",
    "            L_normed[i,j] = -1.0/(np.sqrt(degrees[i]*degrees[j]))"
   ]
  },
  {
   "cell_type": "code",
   "execution_count": 206,
   "metadata": {},
   "outputs": [],
   "source": [
    "degrees = np.sum(adjacency_matrix, axis=0)\n",
    "L = degrees * np.identity((nodes.size))\n",
    "for i in range(nodes.size):\n",
    "    for j in range(nodes.size):\n",
    "        if i != j and adjacency_matrix[i,j] == 1:\n",
    "            L[i,j] = -1"
   ]
  },
  {
   "cell_type": "code",
   "execution_count": 207,
   "metadata": {},
   "outputs": [
    {
     "data": {
      "text/plain": [
       "0.2532426070721102"
      ]
     },
     "execution_count": 207,
     "metadata": {},
     "output_type": "execute_result"
    }
   ],
   "source": [
    "np.sum(L_normed)"
   ]
  },
  {
   "cell_type": "markdown",
   "metadata": {},
   "source": [
    "## Eigen-decomposition"
   ]
  },
  {
   "cell_type": "code",
   "execution_count": 208,
   "metadata": {},
   "outputs": [],
   "source": [
    "_w, _v = np.linalg.eig(L_normed)"
   ]
  },
  {
   "cell_type": "code",
   "execution_count": 209,
   "metadata": {},
   "outputs": [],
   "source": [
    "w, v = eigsh(laplacian, 5, which=\"SA\")"
   ]
  },
  {
   "cell_type": "code",
   "execution_count": 210,
   "metadata": {
    "scrolled": true
   },
   "outputs": [
    {
     "data": {
      "image/png": "[encoded data removed]",
      "text/plain": [
       "<Figure size 432x288 with 1 Axes>"
      ]
     },
     "metadata": {
      "needs_background": "light"
     },
     "output_type": "display_data"
    }
   ],
   "source": [
    "plt.plot(w)\n",
    "plt.show()"
   ]
  },
  {
   "cell_type": "markdown",
   "metadata": {},
   "source": [
    "## Selects second smallest eigenvalue and corresponding eigenvector"
   ]
  },
  {
   "cell_type": "code",
   "execution_count": 211,
   "metadata": {},
   "outputs": [],
   "source": [
    "eig_val_idx = np.argpartition(w,2)[1]\n",
    "eig_val_idx\n",
    "eig_vec = v[:,eig_val_idx]"
   ]
  },
  {
   "cell_type": "code",
   "execution_count": 212,
   "metadata": {},
   "outputs": [
    {
     "data": {
      "image/png": "[encoded data removed]",
      "text/plain": [
       "<Figure size 1080x360 with 2 Axes>"
      ]
     },
     "metadata": {
      "needs_background": "light"
     },
     "output_type": "display_data"
    }
   ],
   "source": [
    "plt.figure(figsize=(15,5))\n",
    "plt.subplot(1, 2, 1)\n",
    "plt.plot(eig_vec)\n",
    "plt.subplot(1, 2, 2)\n",
    "plt.hist(eig_vec)\n",
    "plt.show()"
   ]
  },
  {
   "cell_type": "markdown",
   "metadata": {},
   "source": [
    "## K-means clustering"
   ]
  },
  {
   "cell_type": "markdown",
   "metadata": {},
   "source": [
    "Should be improved to enforce balanced cluster sizes"
   ]
  },
  {
   "cell_type": "code",
   "execution_count": 213,
   "metadata": {},
   "outputs": [
    {
     "name": "stdout",
     "output_type": "stream",
     "text": [
      "(array([ 0.47398293, -0.25127395]), 0.03456712657056704)\n"
     ]
    }
   ],
   "source": [
    "whitened = whiten(eig_vec)\n",
    "k_means = kmeans(eig_vec,k)\n",
    "print(k_means)"
   ]
  },
  {
   "cell_type": "markdown",
   "metadata": {},
   "source": [
    "## Select cluster for all vertices"
   ]
  },
  {
   "cell_type": "code",
   "execution_count": null,
   "metadata": {},
   "outputs": [],
   "source": []
  },
  {
   "cell_type": "markdown",
   "metadata": {},
   "source": [
    "## Calculate cost for clusters"
   ]
  },
  {
   "cell_type": "code",
   "execution_count": null,
   "metadata": {},
   "outputs": [],
   "source": []
  }
 ],
 "metadata": {
  "kernelspec": {
   "display_name": "Python 3",
   "language": "python",
   "name": "python3"
  },
  "language_info": {
   "codemirror_mode": {
    "name": "ipython",
    "version": 3
   },
   "file_extension": ".py",
   "mimetype": "text/x-python",
   "name": "python",
   "nbconvert_exporter": "python",
   "pygments_lexer": "ipython3",
   "version": "3.7.3"
  }
 },
 "nbformat": 4,
 "nbformat_minor": 2
}
