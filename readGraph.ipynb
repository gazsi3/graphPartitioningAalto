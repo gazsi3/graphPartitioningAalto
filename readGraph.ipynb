{
 "cells": [
  {
   "cell_type": "markdown",
   "metadata": {},
   "source": [
    "# CS-E4600 — Programming project"
   ]
  },
  {
   "cell_type": "markdown",
   "metadata": {},
   "source": [
    "## Imports"
   ]
  },
  {
   "cell_type": "code",
   "execution_count": 1,
   "metadata": {},
   "outputs": [],
   "source": [
    "import pandas as pd\n",
    "import numpy as np\n",
    "import matplotlib.pyplot as plt \n",
    "from scipy.sparse import csgraph\n",
    "from scipy.sparse.linalg import eigsh\n",
    "from scipy.cluster.vq import vq, kmeans, whiten"
   ]
  },
  {
   "cell_type": "markdown",
   "metadata": {},
   "source": [
    "## Read file"
   ]
  },
  {
   "cell_type": "code",
   "execution_count": 2,
   "metadata": {},
   "outputs": [],
   "source": [
    "#file = 'test'\n",
    "#file = 'ca-GrQc'\n",
    "file = 'Oregon-1'"
   ]
  },
  {
   "cell_type": "markdown",
   "metadata": {},
   "source": [
    "## Read First line info and Edges"
   ]
  },
  {
   "cell_type": "code",
   "execution_count": 3,
   "metadata": {},
   "outputs": [
    {
     "name": "stdout",
     "output_type": "stream",
     "text": [
      "10670 22002 5\n"
     ]
    }
   ],
   "source": [
    "folder = './graphs_processed/'\n",
    "with open(folder + file + '.txt') as f:\n",
    "    first_line = f.readline()\n",
    "first_line = first_line.split()\n",
    "\n",
    "num_nodes = int(first_line[2])\n",
    "num_edges = int(first_line[3])\n",
    "k = int(first_line[4])\n",
    "print(num_nodes, num_edges, k)\n",
    "\n",
    "    \n",
    "pd_edges = pd.read_csv(folder + file + '.txt', sep=\" \", skiprows=range(0, 1), header=None)\n",
    "pd_edges.columns = [\"FromNodeId\",\"ToNodeId\"]\n",
    "#pd_edges"
   ]
  },
  {
   "cell_type": "markdown",
   "metadata": {},
   "source": [
    "## Select Distinct Nodes"
   ]
  },
  {
   "cell_type": "code",
   "execution_count": 4,
   "metadata": {},
   "outputs": [],
   "source": [
    "node_candidates_1 = pd_edges.drop_duplicates(subset=\"FromNodeId\")[\"FromNodeId\"]\n",
    "node_candidates_2 = pd_edges.drop_duplicates(subset=\"ToNodeId\")[\"ToNodeId\"]"
   ]
  },
  {
   "cell_type": "code",
   "execution_count": 5,
   "metadata": {},
   "outputs": [],
   "source": [
    "pd_nodes = pd.concat([node_candidates_1, node_candidates_2])\n",
    "pd_nodes = pd_nodes.drop_duplicates()\n",
    "#pd_nodes"
   ]
  },
  {
   "cell_type": "markdown",
   "metadata": {},
   "source": [
    "## Convert Nodes and Edges to Numpy"
   ]
  },
  {
   "cell_type": "code",
   "execution_count": 6,
   "metadata": {},
   "outputs": [
    {
     "name": "stdout",
     "output_type": "stream",
     "text": [
      "[    0     1     2 ... 10470 10311 10412]\n",
      "[    0     1     2 ... 10667 10668 10669]\n"
     ]
    }
   ],
   "source": [
    "nodes = pd_nodes.values\n",
    "edges = pd_edges.values\n",
    "nodes2 = np.arange(num_nodes)\n",
    "#print(nodes.shape, nodes.shape)\n",
    "print(nodes)\n",
    "print(nodes2)\n",
    "nodes = nodes2\n",
    "#nodes.shape, edges.shape"
   ]
  },
  {
   "cell_type": "markdown",
   "metadata": {},
   "source": [
    "## Create Adjacency Matrix"
   ]
  },
  {
   "cell_type": "markdown",
   "metadata": {},
   "source": [
    "what to do with too big arrays??"
   ]
  },
  {
   "cell_type": "code",
   "execution_count": 7,
   "metadata": {},
   "outputs": [],
   "source": [
    "adjacency_matrix = np.zeros((nodes.size, nodes.size))\n",
    "#adjacency_matrix.shape"
   ]
  },
  {
   "cell_type": "code",
   "execution_count": 8,
   "metadata": {},
   "outputs": [
    {
     "data": {
      "text/plain": [
       "<matplotlib.image.AxesImage at 0x1a73675c1c8>"
      ]
     },
     "execution_count": 8,
     "metadata": {},
     "output_type": "execute_result"
    },
    {
     "data": {
      "image/png": "[encoded data removed]",
      "text/plain": [
       "<Figure size 432x288 with 1 Axes>"
      ]
     },
     "metadata": {
      "needs_background": "light"
     },
     "output_type": "display_data"
    }
   ],
   "source": [
    "for i in range(0,edges.shape[0]):\n",
    "    adjacency_matrix[edges[i,0], edges[i,1]] = 1\n",
    "    adjacency_matrix[edges[i,1], edges[i,0]] = 1\n",
    "#np.sum(adjacency_matrix)\n",
    "plt.imshow(adjacency_matrix)"
   ]
  },
  {
   "cell_type": "markdown",
   "metadata": {},
   "source": [
    "## Create Laplacian Matrix"
   ]
  },
  {
   "cell_type": "code",
   "execution_count": 9,
   "metadata": {},
   "outputs": [
    {
     "data": {
      "text/plain": [
       "6543.449587739675"
      ]
     },
     "execution_count": 9,
     "metadata": {},
     "output_type": "execute_result"
    }
   ],
   "source": [
    "laplacian = csgraph.laplacian(adjacency_matrix, normed=True)\n",
    "np.sum(laplacian)"
   ]
  },
  {
   "cell_type": "markdown",
   "metadata": {},
   "source": [
    "## Alternative way for the Laplacian Matrix"
   ]
  },
  {
   "cell_type": "markdown",
   "metadata": {},
   "source": [
    "degrees = np.sum(adjacency_matrix, axis=0)\n",
    "L_normed = np.identity((nodes.size))\n",
    "for i in range(nodes.size):\n",
    "    for j in range(nodes.size):\n",
    "        if i != j and adjacency_matrix[i,j] == 1:\n",
    "            L_normed[i,j] = -1.0/(np.sqrt(degrees[i]*degrees[j]))"
   ]
  },
  {
   "cell_type": "markdown",
   "metadata": {},
   "source": [
    "degrees = np.sum(adjacency_matrix, axis=0)\n",
    "L = degrees * np.identity((nodes.size))\n",
    "for i in range(nodes.size):\n",
    "    for j in range(nodes.size):\n",
    "        if i != j and adjacency_matrix[i,j] == 1:\n",
    "            L[i,j] = -1"
   ]
  },
  {
   "cell_type": "markdown",
   "metadata": {},
   "source": [
    "np.sum(L_normed)"
   ]
  },
  {
   "cell_type": "markdown",
   "metadata": {},
   "source": [
    "## Eigen-decomposition"
   ]
  },
  {
   "cell_type": "markdown",
   "metadata": {},
   "source": [
    "_w, _v = np.linalg.eig(L_normed)"
   ]
  },
  {
   "cell_type": "code",
   "execution_count": 10,
   "metadata": {},
   "outputs": [
    {
     "name": "stdout",
     "output_type": "stream",
     "text": [
      "[[-4.76709626e-03 -1.30396227e-03 -1.89721565e-04 -9.74708774e-04\n",
      "  -4.82251652e-04]\n",
      " [-8.25685294e-03 -2.13495777e-03 -2.42231044e-04 -1.64147762e-03\n",
      "  -6.82503355e-04]\n",
      " [-6.74169219e-03 -1.75407211e-03 -1.91021914e-04 -1.25075603e-03\n",
      "  -6.11907926e-04]\n",
      " ...\n",
      " [-4.76709626e-03  6.74576632e-04  1.62765635e-03  3.69444259e-03\n",
      "  -4.07655485e-04]\n",
      " [-6.74169219e-03  1.15292280e-03  2.41577874e-03  5.11299999e-03\n",
      "  -9.52862994e-05]\n",
      " [-4.76709626e-03 -1.71660758e-03  2.28542009e-04 -2.41422009e-03\n",
      "   4.47822326e-06]]\n"
     ]
    }
   ],
   "source": [
    "w, v = eigsh(laplacian, k, which=\"SA\")\n",
    "print(v)"
   ]
  },
  {
   "cell_type": "markdown",
   "metadata": {
    "scrolled": true
   },
   "source": [
    "plt.plot(w)\n",
    "plt.show()"
   ]
  },
  {
   "cell_type": "markdown",
   "metadata": {},
   "source": [
    "## Selects second smallest eigenvalue and corresponding eigenvector"
   ]
  },
  {
   "cell_type": "code",
   "execution_count": 11,
   "metadata": {},
   "outputs": [],
   "source": [
    "eig_val_idx = np.argpartition(w,k-1)[1]\n",
    "eig_val_idx\n",
    "eig_vec = v[:,eig_val_idx]"
   ]
  },
  {
   "cell_type": "code",
   "execution_count": 12,
   "metadata": {},
   "outputs": [
    {
     "data": {
      "image/png": "[encoded data removed]",
      "text/plain": [
       "<Figure size 1080x360 with 2 Axes>"
      ]
     },
     "metadata": {
      "needs_background": "light"
     },
     "output_type": "display_data"
    }
   ],
   "source": [
    "plt.figure(figsize=(15,5))\n",
    "plt.subplot(1, 2, 1)\n",
    "plt.plot(eig_vec)\n",
    "plt.subplot(1, 2, 2)\n",
    "plt.hist(eig_vec)\n",
    "plt.show()"
   ]
  },
  {
   "cell_type": "markdown",
   "metadata": {},
   "source": [
    "## K-means clustering"
   ]
  },
  {
   "cell_type": "markdown",
   "metadata": {},
   "source": [
    "Should be improved to enforce balanced cluster sizes"
   ]
  },
  {
   "cell_type": "code",
   "execution_count": 13,
   "metadata": {},
   "outputs": [
    {
     "name": "stdout",
     "output_type": "stream",
     "text": [
      "[[-1.18788030e-02 -5.43525188e-03  1.81196267e-03 -3.02567505e-02\n",
      "   2.29806042e-02]\n",
      " [-6.16968669e-03 -4.97717445e-03 -5.99840140e-02  9.50376127e-03\n",
      "   4.08840771e-03]\n",
      " [-6.99625737e-03 -1.49931843e-03  9.52931123e-05 -1.05516062e-03\n",
      "  -7.47446183e-04]\n",
      " [-7.45486791e-03  5.37598968e-02 -6.32020982e-03 -1.03900145e-02\n",
      "   1.46034606e-03]\n",
      " [-9.02480623e-03  3.45940989e-03  4.17533971e-03  1.00292131e-02\n",
      "  -1.47474475e-04]]\n"
     ]
    }
   ],
   "source": [
    "whitened = whiten(v)\n",
    "k_means, distortion = kmeans(v,k)\n",
    "print(k_means)"
   ]
  },
  {
   "cell_type": "markdown",
   "metadata": {},
   "source": [
    "## Select cluster for all vertices"
   ]
  },
  {
   "cell_type": "code",
   "execution_count": 14,
   "metadata": {},
   "outputs": [],
   "source": [
    "def cluster(node, k_means):\n",
    "    node_cluster = 0\n",
    "    node_distance = np.linalg.norm(node - k_means[0,:])\n",
    "    \n",
    "    for i in range(1,k_means.shape[0]):\n",
    "        tmp_distance = np.linalg.norm(node - k_means[i,:])\n",
    "        if (tmp_distance < node_distance):\n",
    "            node_distance = tmp_distance\n",
    "            node_cluster = i\n",
    "                \n",
    "    return node_cluster\n",
    "        "
   ]
  },
  {
   "cell_type": "code",
   "execution_count": 15,
   "metadata": {},
   "outputs": [],
   "source": [
    "clusters = np.zeros((num_nodes,1))\n",
    "for j in range(clusters.size):\n",
    "    clusters[j] = cluster(v[j,:], k_means)"
   ]
  },
  {
   "cell_type": "code",
   "execution_count": 16,
   "metadata": {},
   "outputs": [],
   "source": [
    "unique, counts = np.unique(clusters, return_counts=True)"
   ]
  },
  {
   "cell_type": "code",
   "execution_count": 17,
   "metadata": {},
   "outputs": [
    {
     "data": {
      "image/png": "[encoded data removed]",
      "text/plain": [
       "<Figure size 432x288 with 1 Axes>"
      ]
     },
     "metadata": {
      "needs_background": "light"
     },
     "output_type": "display_data"
    }
   ],
   "source": [
    "bars = np.arange(k)\n",
    "plt.bar(bars, counts)\n",
    "plt.show()"
   ]
  },
  {
   "cell_type": "markdown",
   "metadata": {},
   "source": [
    "## Calculate cost for clusters"
   ]
  },
  {
   "cell_type": "code",
   "execution_count": 18,
   "metadata": {},
   "outputs": [],
   "source": [
    "outer_edges = np.zeros((k,1))\n",
    "\n",
    "for i in range(k):\n",
    "    for j in range(num_edges):\n",
    "        if(((clusters[edges[j,0]] == i) and (clusters[edges[j,1]] != i))\n",
    "        or ((clusters[edges[j,0]] != i) and (clusters[edges[j,1]] == i))):\n",
    "            outer_edges[i] += 1"
   ]
  },
  {
   "cell_type": "code",
   "execution_count": 19,
   "metadata": {},
   "outputs": [
    {
     "name": "stdout",
     "output_type": "stream",
     "text": [
      "[[7980.]\n",
      " [  66.]\n",
      " [9609.]\n",
      " [  93.]\n",
      " [2160.]] \n",
      "\n",
      " [[26.07843137]\n",
      " [ 0.39759036]\n",
      " [ 1.18688241]\n",
      " [ 0.42857143]\n",
      " [ 1.14588859]] \n",
      "\n",
      " [29.23736417]\n"
     ]
    }
   ],
   "source": [
    "counts = counts.reshape(k,-1)\n",
    "costs = outer_edges / counts\n",
    "cost = sum(costs)\n",
    "print(outer_edges,\"\\n\\n\" ,  costs,\"\\n\\n\", cost)            "
   ]
  },
  {
   "cell_type": "code",
   "execution_count": 20,
   "metadata": {},
   "outputs": [
    {
     "name": "stdout",
     "output_type": "stream",
     "text": [
      "[[ 8493.]\n",
      " [  257.]\n",
      " [16251.]\n",
      " [  408.]\n",
      " [ 6547.]]\n"
     ]
    }
   ],
   "source": [
    "all_edges = np.zeros((k,1))\n",
    "\n",
    "for i in range(k):\n",
    "    for j in range(num_edges):\n",
    "        if((clusters[edges[j,0]] == i) or (clusters[edges[j,1]] == i)):\n",
    "            all_edges[i] +=1\n",
    "print(all_edges)"
   ]
  },
  {
   "cell_type": "markdown",
   "metadata": {},
   "source": [
    "## Output clusters"
   ]
  },
  {
   "cell_type": "code",
   "execution_count": 21,
   "metadata": {},
   "outputs": [],
   "source": [
    "out_file = open(\"./results/\" + file + \".output\" + \".txt\", \"w\")\n",
    "out_file = open(\"./results/\" + file + \".output\", \"w\")\n",
    "for i in range (num_nodes):\n",
    "    out_file.write(str(i) + \" \" + str(int(clusters[i,0])) + \"\\n\")\n",
    "out_file.close()"
   ]
  }
 ],
 "metadata": {
  "kernelspec": {
   "display_name": "Python 3",
   "language": "python",
   "name": "python3"
  },
  "language_info": {
   "codemirror_mode": {
    "name": "ipython",
    "version": 3
   },
   "file_extension": ".py",
   "mimetype": "text/x-python",
   "name": "python",
   "nbconvert_exporter": "python",
   "pygments_lexer": "ipython3",
   "version": "3.7.4"
  }
 },
 "nbformat": 4,
 "nbformat_minor": 2
}
